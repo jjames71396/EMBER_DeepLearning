{
  "nbformat": 4,
  "nbformat_minor": 0,
  "metadata": {
    "colab": {
      "name": "emberML.ipynb",
      "provenance": [],
      "collapsed_sections": []
    },
    "kernelspec": {
      "name": "python3",
      "display_name": "Python 3"
    },
    "language_info": {
      "name": "python"
    },
    "accelerator": "GPU"
  },
  "cells": [
    {
      "cell_type": "code",
      "execution_count": null,
      "metadata": {
        "id": "CorMDjjYqLB1"
      },
      "outputs": [],
      "source": [
        "import os\n",
        "import numpy as np\n",
        "import pandas as pd\n",
        "import altair as alt\n",
        "import lightgbm as lgb\n",
        "import matplotlib.pylab as plt\n",
        "import time\n",
        "from sklearn.metrics import roc_auc_score, roc_curve"
      ]
    },
    {
      "cell_type": "code",
      "source": [
        "from google.colab import drive\n",
        "drive.mount('/content/drive')"
      ],
      "metadata": {
        "id": "jT6boWg5qbbe",
        "colab": {
          "base_uri": "https://localhost:8080/"
        },
        "outputId": "7a81390c-8c7b-4fc4-e902-15334f0d6533"
      },
      "execution_count": null,
      "outputs": [
        {
          "output_type": "stream",
          "name": "stdout",
          "text": [
            "Mounted at /content/drive\n"
          ]
        }
      ]
    },
    {
      "cell_type": "code",
      "source": [
        "xt = np.memmap(\"drive/MyDrive/Ember_Data/trainx\", dtype=\"float32\", shape=(600000,2351))\n",
        "yt = np.memmap(\"drive/MyDrive/Ember_Data/trainy\", dtype=\"float32\", shape=(600000,1))\n",
        "x_test = np.memmap(\"drive/MyDrive/Ember_Data/x_test.txt\", dtype=\"float32\", shape=(200000, 2351))\n",
        "y_test = np.memmap(\"drive/MyDrive/Ember_Data/y_test.txt\", dtype=\"float32\")"
      ],
      "metadata": {
        "id": "RHgjNMo5qdQD"
      },
      "execution_count": null,
      "outputs": []
    },
    {
      "cell_type": "code",
      "source": [
        "import torch\n",
        "import torch.nn as nn\n",
        "import torch.nn.functional as F\n",
        "import torch.optim as optim"
      ],
      "metadata": {
        "id": "j67Qx17tEt2z"
      },
      "execution_count": null,
      "outputs": []
    },
    {
      "cell_type": "code",
      "source": [
        "batch_size = 64\n",
        "device = torch.device('cuda')\n",
        "\n",
        "x = torch.tensor(xt).to(device)\n",
        "y = torch.tensor(yt).to(device)\n",
        "y = y.type(torch.FloatTensor)\n",
        "\n",
        "trainset = torch.utils.data.TensorDataset(x,y)\n",
        "trainloader = torch.utils.data.DataLoader(trainset, batch_size=batch_size,\n",
        "                                          shuffle=True)"
      ],
      "metadata": {
        "id": "YaTwbS9EI8Lh"
      },
      "execution_count": null,
      "outputs": []
    },
    {
      "cell_type": "code",
      "source": [
        "class Deep2Net(nn.Module):\n",
        "    def __init__(self):\n",
        "        super().__init__()\n",
        "        self.fc = nn.Linear(2351,7000)\n",
        "        self.bn = nn.BatchNorm1d(7000)\n",
        "        self.dp = nn.Dropout(p=0.01)\n",
        "        self.fc1 = nn.Linear(7000, 4096)\n",
        "        self.bn1 = nn.BatchNorm1d(4096)\n",
        "        self.dp1 = nn.Dropout(p=0.01)\n",
        "        self.fc2 = nn.Linear(4096, 2048)\n",
        "        self.bn2 = nn.BatchNorm1d(2048)\n",
        "        self.dp2 = nn.Dropout(p=0.01)\n",
        "        self.fc3 = nn.Linear(2048, 1024)\n",
        "        self.bn3 = nn.BatchNorm1d(1024)\n",
        "        self.dp3 = nn.Dropout(p=0.01)\n",
        "        self.fc4 = nn.Linear(1024, 512)\n",
        "        self.bn4 = nn.BatchNorm1d(512)\n",
        "        self.dp4 = nn.Dropout(p=0.01)\n",
        "        self.fc5 = nn.Linear(512,128)\n",
        "        self.bn5 = nn.BatchNorm1d(128)\n",
        "        self.dp5 = nn.Dropout(p=0.01)\n",
        "        self.fc6 = nn.Linear(128,1)\n",
        "\n",
        "    def forward(self, x):\n",
        "        x = F.relu(self.bn(self.fc(x)))\n",
        "        x = self.dp(x)\n",
        "        x = F.relu(self.bn1(self.fc1(x)))\n",
        "        x = self.dp1(x)\n",
        "        x = F.relu(self.bn2(self.fc2(x)))\n",
        "        x = self.dp2(x)\n",
        "        x = F.relu(self.bn3(self.fc3(x)))\n",
        "        x = self.dp3(x)\n",
        "        x = F.relu(self.bn4(self.fc4(x)))\n",
        "        x = self.dp4(x)\n",
        "        x = F.relu(self.bn5(self.fc5(x)))\n",
        "        x = self.dp5(x)\n",
        "        x = torch.sigmoid(self.fc6(x))\n",
        "        return x\n",
        "\n",
        "net = Deep2Net().to(device)"
      ],
      "metadata": {
        "id": "f9OtpBXWE0C8"
      },
      "execution_count": null,
      "outputs": []
    },
    {
      "cell_type": "code",
      "source": [
        "class DeepNet(nn.Module):\n",
        "    def __init__(self):\n",
        "        super().__init__()\n",
        "        self.fc = nn.Linear(2351,6000)\n",
        "        self.bn = nn.BatchNorm1d(6000)\n",
        "        self.dp = nn.Dropout(p=0.05)\n",
        "        self.fc1 = nn.Linear(7000, 4096)\n",
        "        self.bn1 = nn.BatchNorm1d(4096)\n",
        "        self.dp1 = nn.Dropout(p=0.05)\n",
        "        self.fc2 = nn.Linear(4096, 2048)\n",
        "        self.bn2 = nn.BatchNorm1d(2048)\n",
        "        self.dp2 = nn.Dropout(p=0.01)\n",
        "        self.fc3 = nn.Linear(2048, 1024)\n",
        "        self.bn3 = nn.BatchNorm1d(1024)\n",
        "        self.dp3 = nn.Dropout(p=0.01)\n",
        "        self.fc4 = nn.Linear(1024, 512)\n",
        "        self.bn4 = nn.BatchNorm1d(512)\n",
        "        self.dp4 = nn.Dropout(p=0.01)\n",
        "        self.fc5 = nn.Linear(512,128)\n",
        "        self.bn5 = nn.BatchNorm1d(128)\n",
        "        self.dp5 = nn.Dropout(p=0.01)\n",
        "        self.fc6 = nn.Linear(128,1)\n",
        "\n",
        "    def forward(self, x):\n",
        "        x = F.relu(self.bn(self.fc(x)))\n",
        "        x = self.dp(x)\n",
        "        x = F.relu(self.bn1(self.fc1(x)))\n",
        "        x = self.dp1(x)\n",
        "        x = F.relu(self.bn2(self.fc2(x)))\n",
        "        x = self.dp2(x)\n",
        "        x = F.relu(self.bn3(self.fc3(x)))\n",
        "        x = self.dp3(x)\n",
        "        x = F.relu(self.bn4(self.fc4(x)))\n",
        "        x = self.dp4(x)\n",
        "        x = F.relu(self.bn5(self.fc5(x)))\n",
        "        x = self.dp5(x)\n",
        "        x = torch.sigmoid(self.fc6(x))\n",
        "        return x\n",
        "\n",
        "net = DeepNet().to(device)"
      ],
      "metadata": {
        "id": "kvVtJadCH7Y6"
      },
      "execution_count": null,
      "outputs": []
    },
    {
      "cell_type": "code",
      "source": [
        "class ShallowNet(nn.Module):\n",
        "    def __init__(self):\n",
        "        super().__init__()\n",
        "        self.fc = nn.Linear(2351,2048)\n",
        "        self.bn = nn.BatchNorm1d(2048)\n",
        "        self.dp = nn.Dropout(p=0.01)\n",
        "        self.fc1 = nn.Linear(2048, 1024)\n",
        "        self.bn1 = nn.BatchNorm1d(1024)\n",
        "        self.dp1 = nn.Dropout(p=0.01)\n",
        "        self.fc2 = nn.Linear(1024, 512)\n",
        "        self.bn2 = nn.BatchNorm1d(512)\n",
        "        self.dp2 = nn.Dropout(p=0.01)\n",
        "        self.fc3 = nn.Linear(512, 128)\n",
        "        self.bn3 = nn.BatchNorm1d(128)\n",
        "        self.dp3 = nn.Dropout(p=0.01)\n",
        "        self.fc4 = nn.Linear(128, 1)\n",
        "\n",
        "    def forward(self, x):\n",
        "        x = F.relu(self.bn(self.fc(x)))\n",
        "        x = self.dp(x)\n",
        "        x = F.relu(self.bn1(self.fc1(x)))\n",
        "        x = self.dp1(x)\n",
        "        x = F.relu(self.bn2(self.fc2(x)))\n",
        "        x = self.dp2(x)\n",
        "        x = F.relu(self.bn3(self.fc3(x)))\n",
        "        x = self.dp3(x)\n",
        "        x = torch.sigmoid(self.fc4(x))\n",
        "        return x\n",
        "\n",
        "net = ShallowNet().to(device)"
      ],
      "metadata": {
        "id": "3CFinaz4i0wG"
      },
      "execution_count": null,
      "outputs": []
    },
    {
      "cell_type": "code",
      "source": [
        "criterion = nn.BCELoss()\n",
        "criterion = criterion.to(device)\n",
        "optimizer = optim.Adam(net.parameters(), lr=0.001)"
      ],
      "metadata": {
        "id": "UNDmWbE6H_8w"
      },
      "execution_count": null,
      "outputs": []
    },
    {
      "cell_type": "code",
      "source": [
        "running_losses = []\n",
        "def train(epochs):\n",
        "  for epoch in range(epochs):  # loop over the dataset multiple times\n",
        "      running_loss = 0.0\n",
        "      for i, data in enumerate(trainloader, 0):\n",
        "          # get the inputs; data is a list of [inputs, labels]\n",
        "          inputs, labels = data\n",
        "          inputs = inputs.to(device)\n",
        "          labels = labels.to(device)\n",
        "          # zero the parameter gradients\n",
        "          optimizer.zero_grad()\n",
        "\n",
        "          # forward + backward + optimize\n",
        "          outputs = net(inputs).to(device)\n",
        "\n",
        "          loss = criterion(outputs, labels)\n",
        "          loss.backward()\n",
        "          optimizer.step()\n",
        "\n",
        "          # print statistics\n",
        "          running_loss += loss.item()\n",
        "          if i % 2000 == 1999:    # print every 2000 mini-batches\n",
        "              print('[%d, %5d] loss: %.3f' %\n",
        "                    (epoch + 1, i + 1, running_loss / 2000))\n",
        "              \n",
        "              running_losses.append(running_loss / 2000);\n",
        "              running_loss = 0.0\n",
        "\n",
        "  print('Finished Training')\n",
        "\n",
        "#train(2)"
      ],
      "metadata": {
        "id": "oiBMwr2VIDmU"
      },
      "execution_count": null,
      "outputs": []
    },
    {
      "cell_type": "code",
      "source": [
        "start = time.time()\n",
        "train(5)\n",
        "end = time.time()\n",
        "print(\"Training Time:\",end-start)"
      ],
      "metadata": {
        "id": "SYQHsY9YCFHj",
        "colab": {
          "base_uri": "https://localhost:8080/"
        },
        "outputId": "6633ea66-8d25-432e-9af4-2c3e60d3debe"
      },
      "execution_count": null,
      "outputs": [
        {
          "output_type": "stream",
          "name": "stdout",
          "text": [
            "[1,  2000] loss: 0.234\n",
            "[1,  4000] loss: 0.230\n",
            "[1,  6000] loss: 0.231\n",
            "[1,  8000] loss: 0.233\n",
            "[2,  2000] loss: 0.233\n",
            "[2,  4000] loss: 0.232\n",
            "[2,  6000] loss: 0.235\n",
            "[2,  8000] loss: 0.232\n",
            "[3,  2000] loss: 0.234\n",
            "[3,  4000] loss: 0.233\n",
            "[3,  6000] loss: 0.233\n",
            "[3,  8000] loss: 0.232\n",
            "[4,  2000] loss: 0.234\n",
            "[4,  4000] loss: 0.231\n",
            "[4,  6000] loss: 0.233\n",
            "[4,  8000] loss: 0.233\n",
            "[5,  2000] loss: 0.233\n",
            "[5,  4000] loss: 0.236\n",
            "[5,  6000] loss: 0.232\n",
            "[5,  8000] loss: 0.230\n",
            "Finished Training\n",
            "Training Time: 445.47837376594543\n"
          ]
        }
      ]
    },
    {
      "cell_type": "code",
      "source": [
        "torch.save(net,\"ember_deep2_model.pt\")"
      ],
      "metadata": {
        "id": "KDmhfdPKuIZB"
      },
      "execution_count": null,
      "outputs": []
    },
    {
      "cell_type": "code",
      "source": [
        "net = Deep2Net().to(device)\n",
        "net = torch.load(\"ember_deep2_model.pt\")"
      ],
      "metadata": {
        "id": "uK4hTDmMO1yx"
      },
      "execution_count": null,
      "outputs": []
    },
    {
      "cell_type": "code",
      "source": [
        "batch_size = 64\n",
        "device = torch.device('cuda')\n",
        "\n",
        "xtest = torch.tensor(x_test).to(device)\n",
        "ytest = torch.tensor(y_test).to(device)\n",
        "ytest = ytest.type(torch.FloatTensor)\n",
        "ytest = ytest.reshape(200000,1)\n",
        "\n",
        "testset = torch.utils.data.TensorDataset(xtest,ytest)\n",
        "testloader = torch.utils.data.DataLoader(testset, batch_size=batch_size,\n",
        "                                          shuffle=True)"
      ],
      "metadata": {
        "id": "cnnx4hDYHV9v"
      },
      "execution_count": null,
      "outputs": []
    },
    {
      "cell_type": "code",
      "source": [
        "#test accuracy\n",
        "correct = 0\n",
        "total = 0\n",
        "tp = 0\n",
        "fp = 0\n",
        "tn = 0\n",
        "fn = 0\n",
        "tot_neg = 0\n",
        "tot_pos = 0\n",
        "for i, data in enumerate(testloader, 0):\n",
        "  with torch.no_grad():\n",
        "    inputs, labels = data\n",
        "    inputs = inputs.to(device)\n",
        "    output = net(inputs)\n",
        "    for j in range(output.shape[0]):\n",
        "      pred = 0\n",
        "      if output[j] >= .5:\n",
        "        pred = 1\n",
        "      if pred == labels[j]:\n",
        "        if pred == 1:\n",
        "          tp += 1\n",
        "        else:\n",
        "          tn += 1\n",
        "        correct += 1\n",
        "      else:\n",
        "        if pred == 1:\n",
        "          fp += 1\n",
        "        else:\n",
        "          fn +=1\n",
        "      if labels[j]:\n",
        "        tot_pos += 1\n",
        "      else:\n",
        "        tot_neg += 1\n",
        "      total += 1\n",
        "\n",
        "print(\"true positive rate:\",tp/tot_pos)\n",
        "print(\"false positive rate:\",fp/tot_pos)\n",
        "print(\"true negative rate:\",tn/tot_neg)\n",
        "print(\"false negative rate:\",fn/tot_neg)\n",
        "print(\"accuracy:\",correct/total)   "
      ],
      "metadata": {
        "colab": {
          "base_uri": "https://localhost:8080/"
        },
        "id": "Hts_2uhpHGJK",
        "outputId": "232c5c87-ea6b-4fd0-913a-4802752679d6"
      },
      "execution_count": null,
      "outputs": [
        {
          "output_type": "stream",
          "name": "stdout",
          "text": [
            "true positive rate: 0.81007\n",
            "false positive rate: 0.10274\n",
            "true negative rate: 0.89726\n",
            "false negative rate: 0.18993\n",
            "accuracy: 0.853665\n"
          ]
        }
      ]
    },
    {
      "cell_type": "code",
      "source": [
        "plt.plot(running_losses)\n",
        "plt.xlabel(\"Mini-batches (fifth of an epoch)\")\n",
        "plt.ylabel(\"BCE Loss\")\n",
        "plt.show()"
      ],
      "metadata": {
        "colab": {
          "base_uri": "https://localhost:8080/",
          "height": 279
        },
        "id": "pin0yLWPtkFD",
        "outputId": "26917094-7ffa-40b9-dbd7-4fe56a1f9370"
      },
      "execution_count": null,
      "outputs": [
        {
          "output_type": "display_data",
          "data": {
            "text/plain": [
              "<Figure size 432x288 with 1 Axes>"
            ],
            "image/png": "[encoded data removed]"
          },
          "metadata": {
            "needs_background": "light"
          }
        }
      ]
    },
    {
      "cell_type": "code",
      "source": [
        "#train accuracy\n",
        "correct = 0\n",
        "total = 0\n",
        "for i, data in enumerate(trainloader, 0):\n",
        "  with torch.no_grad():\n",
        "    inputs, labels = data\n",
        "    inputs = inputs.to(device)\n",
        "    output = net(inputs)\n",
        "    for j in range(output.shape[0]):\n",
        "      pred = 0\n",
        "      if output[j] >= .5:\n",
        "        pred = 1\n",
        "      if pred == labels[j]:\n",
        "        correct += 1\n",
        "      total += 1\n",
        "\n",
        "\n",
        "print(correct/total)   \n",
        "#print(output)\n",
        "#print(labels)"
      ],
      "metadata": {
        "id": "vUb4Gdirl19Z"
      },
      "execution_count": null,
      "outputs": []
    }
  ]
}